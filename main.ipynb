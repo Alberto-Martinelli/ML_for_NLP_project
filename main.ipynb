{
 "cells": [
  {
   "cell_type": "markdown",
   "source": [
    "## **Project One: TripAdvisor Recommendation Challenge - Beating BM25**\n",
    "_**Authors:** Alberto MARTINELLI, Alessia SARRITZU_\n",
    "\n",
    "The goal of the project is to develop a recommendation system that relies solely on user reviews to suggest similar places based on given queries. The system will propose the most relevant location based on the text of the reviews.\n",
    "\n",
    "1. **Data pre-processing**:\n",
    "  - Utilise only the reviews where ratings are composed strictly with this aspects on reviews with ratings for the following aspects: **service**, **cleanliness**, **overall**, **value**, **location**, **sleep quality**, and **rooms**.\n",
    "  - Concatenate reviews by `offering_id` to compute average ratings for evaluation.\n",
    "\n",
    "2. **BM25 Implementation**:\n",
    "    - Implement a BM25 baseline using the **Rank-BM25** library.\n",
    "    - Measure the performance of BM25 through Mean Square Error (MSE) between the ratings of the query place and the recommended place.\n",
    "\n",
    "3. **Enhanced Unsupervised Model**:\n",
    "    - Create a new unsupervised model to outperform BM25, potentially integrating it with other methods, while ensuring the model does not directly utilize ratings in its learning process.\n",
    "    - Measure performance of the **Enhanced Model** through Mean Square Error (MSE) between the ratings of the query place and the recommended place, with the aim of achieving a lower MSE than the BM25 baseline."
   ],
   "metadata": {
    "collapsed": false,
    "pycharm": {
     "name": "#%% md\n"
    }
   }
  },
  {
   "cell_type": "code",
   "execution_count": 1,
   "outputs": [
    {
     "data": {
      "text/plain": "                                             ratings  \\\n0  {'service': 5.0, 'cleanliness': 5.0, 'overall'...   \n1  {'service': 5.0, 'cleanliness': 5.0, 'overall'...   \n2  {'service': 4.0, 'cleanliness': 5.0, 'overall'...   \n3  {'service': 5.0, 'cleanliness': 5.0, 'overall'...   \n4  {'service': 4.0, 'cleanliness': 5.0, 'overall'...   \n\n                                             title  \\\n0        “Truly is \"Jewel of the Upper Wets Side\"”   \n1                        “My home away from home!”   \n2                                     “Great Stay”   \n3                             “Modern Convenience”   \n4  “Its the best of the Andaz Brand in the US....”   \n\n                                                text  \\\n0  Stayed in a king suite for 11 nights and yes i...   \n1  On every visit to NYC, the Hotel Beacon is the...   \n2  This is a great property in Midtown. We two di...   \n3  The Andaz is a nice hotel in a central locatio...   \n4  I have stayed at each of the US Andaz properti...   \n\n                                              author    date_stayed  \\\n0  {'username': 'Papa_Panda', 'num_cities': 22, '...  December 2012   \n1  {'username': 'Maureen V', 'num_reviews': 2, 'n...  December 2012   \n2  {'username': 'vuguru', 'num_cities': 12, 'num_...  December 2012   \n3  {'username': 'Hotel-Designer', 'num_cities': 5...    August 2012   \n4  {'username': 'JamesE339', 'num_cities': 34, 'n...  December 2012   \n\n   offering_id  num_helpful_votes        date         id  via_mobile  \n0        93338                  0  2012-12-17  147643103       False  \n1        93338                  0  2012-12-17  147639004       False  \n2      1762573                  0  2012-12-18  147697954       False  \n3      1762573                  0  2012-12-17  147625723       False  \n4      1762573                  0  2012-12-17  147612823       False  ",
      "text/html": "<div>\n<style scoped>\n    .dataframe tbody tr th:only-of-type {\n        vertical-align: middle;\n    }\n\n    .dataframe tbody tr th {\n        vertical-align: top;\n    }\n\n    .dataframe thead th {\n        text-align: right;\n    }\n</style>\n<table border=\"1\" class=\"dataframe\">\n  <thead>\n    <tr style=\"text-align: right;\">\n      <th></th>\n      <th>ratings</th>\n      <th>title</th>\n      <th>text</th>\n      <th>author</th>\n      <th>date_stayed</th>\n      <th>offering_id</th>\n      <th>num_helpful_votes</th>\n      <th>date</th>\n      <th>id</th>\n      <th>via_mobile</th>\n    </tr>\n  </thead>\n  <tbody>\n    <tr>\n      <th>0</th>\n      <td>{'service': 5.0, 'cleanliness': 5.0, 'overall'...</td>\n      <td>“Truly is \"Jewel of the Upper Wets Side\"”</td>\n      <td>Stayed in a king suite for 11 nights and yes i...</td>\n      <td>{'username': 'Papa_Panda', 'num_cities': 22, '...</td>\n      <td>December 2012</td>\n      <td>93338</td>\n      <td>0</td>\n      <td>2012-12-17</td>\n      <td>147643103</td>\n      <td>False</td>\n    </tr>\n    <tr>\n      <th>1</th>\n      <td>{'service': 5.0, 'cleanliness': 5.0, 'overall'...</td>\n      <td>“My home away from home!”</td>\n      <td>On every visit to NYC, the Hotel Beacon is the...</td>\n      <td>{'username': 'Maureen V', 'num_reviews': 2, 'n...</td>\n      <td>December 2012</td>\n      <td>93338</td>\n      <td>0</td>\n      <td>2012-12-17</td>\n      <td>147639004</td>\n      <td>False</td>\n    </tr>\n    <tr>\n      <th>2</th>\n      <td>{'service': 4.0, 'cleanliness': 5.0, 'overall'...</td>\n      <td>“Great Stay”</td>\n      <td>This is a great property in Midtown. We two di...</td>\n      <td>{'username': 'vuguru', 'num_cities': 12, 'num_...</td>\n      <td>December 2012</td>\n      <td>1762573</td>\n      <td>0</td>\n      <td>2012-12-18</td>\n      <td>147697954</td>\n      <td>False</td>\n    </tr>\n    <tr>\n      <th>3</th>\n      <td>{'service': 5.0, 'cleanliness': 5.0, 'overall'...</td>\n      <td>“Modern Convenience”</td>\n      <td>The Andaz is a nice hotel in a central locatio...</td>\n      <td>{'username': 'Hotel-Designer', 'num_cities': 5...</td>\n      <td>August 2012</td>\n      <td>1762573</td>\n      <td>0</td>\n      <td>2012-12-17</td>\n      <td>147625723</td>\n      <td>False</td>\n    </tr>\n    <tr>\n      <th>4</th>\n      <td>{'service': 4.0, 'cleanliness': 5.0, 'overall'...</td>\n      <td>“Its the best of the Andaz Brand in the US....”</td>\n      <td>I have stayed at each of the US Andaz properti...</td>\n      <td>{'username': 'JamesE339', 'num_cities': 34, 'n...</td>\n      <td>December 2012</td>\n      <td>1762573</td>\n      <td>0</td>\n      <td>2012-12-17</td>\n      <td>147612823</td>\n      <td>False</td>\n    </tr>\n  </tbody>\n</table>\n</div>"
     },
     "execution_count": 1,
     "metadata": {},
     "output_type": "execute_result"
    }
   ],
   "source": [
    "import pandas as pd\n",
    "\n",
    "df = pd.read_csv('reviews.csv')\n",
    "df.head()"
   ],
   "metadata": {
    "collapsed": false,
    "pycharm": {
     "name": "#%%\n"
    }
   }
  },
  {
   "cell_type": "code",
   "execution_count": null,
   "outputs": [],
   "source": [],
   "metadata": {
    "collapsed": false,
    "pycharm": {
     "name": "#%%\n"
    }
   }
  }
 ],
 "metadata": {
  "kernelspec": {
   "display_name": "base",
   "language": "python",
   "name": "python3"
  },
  "language_info": {
   "codemirror_mode": {
    "name": "ipython",
    "version": 3
   },
   "file_extension": ".py",
   "mimetype": "text/x-python",
   "name": "python",
   "nbconvert_exporter": "python",
   "pygments_lexer": "ipython3",
   "version": "3.11.9"
  }
 },
 "nbformat": 4,
 "nbformat_minor": 2
}