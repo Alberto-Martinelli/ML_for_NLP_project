{
 "cells": [
  {
   "cell_type": "markdown",
   "metadata": {
    "collapsed": false,
    "pycharm": {
     "name": "#%% md\n"
    }
   },
   "source": [
    "## **Project One: TripAdvisor Recommendation Challenge - Beating BM25**\n",
    "_**Authors:** Alberto MARTINELLI, Alessia SARRITZU_\n",
    "\n",
    "The goal of the project is to develop a recommendation system that relies solely on user reviews to suggest similar places based on given queries. The system will propose the most relevant location based on the text of the reviews.\n",
    "\n",
    "1. **Data pre-processing**:\n",
    "  - Utilise only the reviews where ratings are composed strictly with this aspects: **service**, **cleanliness**, **overall**, **value**, **location**, **sleep quality**, and **rooms**.\n",
    "  - Concatenate reviews by `offering_id` to compute average ratings for evaluation.\n",
    "\n",
    "2. **BM25 Implementation**:\n",
    "    - Implement a BM25 baseline using the **Rank-BM25** library.\n",
    "    - Measure the performance of BM25 through Mean Square Error (MSE) between each ratings of the query place and the recommended place.\n",
    "\n",
    "3. **Enhanced Unsupervised Model**:\n",
    "    - Create a new unsupervised model to outperform BM25, potentially integrating it with other methods, while ensuring the model does not directly utilize ratings in its learning process.\n",
    "    - Measure performance of the **Enhanced Model** through Mean Square Error (MSE) between the ratings of the query place and the recommended place, with the aim of achieving a lower MSE than the BM25 baseline."
   ]
  },
  {
   "cell_type": "markdown",
   "metadata": {},
   "source": [
    "### 1)"
   ]
  },
  {
   "cell_type": "code",
   "execution_count": 23,
   "metadata": {
    "collapsed": false,
    "pycharm": {
     "name": "#%%\n"
    }
   },
   "outputs": [
    {
     "data": {
      "text/html": [
       "<div>\n",
       "<style scoped>\n",
       "    .dataframe tbody tr th:only-of-type {\n",
       "        vertical-align: middle;\n",
       "    }\n",
       "\n",
       "    .dataframe tbody tr th {\n",
       "        vertical-align: top;\n",
       "    }\n",
       "\n",
       "    .dataframe thead th {\n",
       "        text-align: right;\n",
       "    }\n",
       "</style>\n",
       "<table border=\"1\" class=\"dataframe\">\n",
       "  <thead>\n",
       "    <tr style=\"text-align: right;\">\n",
       "      <th></th>\n",
       "      <th>ratings</th>\n",
       "      <th>title</th>\n",
       "      <th>text</th>\n",
       "      <th>author</th>\n",
       "      <th>date_stayed</th>\n",
       "      <th>offering_id</th>\n",
       "      <th>num_helpful_votes</th>\n",
       "      <th>date</th>\n",
       "      <th>id</th>\n",
       "      <th>via_mobile</th>\n",
       "    </tr>\n",
       "  </thead>\n",
       "  <tbody>\n",
       "    <tr>\n",
       "      <th>260586</th>\n",
       "      <td>{'service': 5.0, 'cleanliness': 5.0, 'overall': 5.0, 'value': 5.0, 'location': 5.0, 'sleep_quality': 5.0, 'rooms': 4.0}</td>\n",
       "      <td>“Great service, modern amenities, great views, small rooms”</td>\n",
       "      <td>If I had to go to NYC again, I would definitely check the rates for this Hilton Garden Inn. My husband and I stayed here just one night, but it was exactly what we needed. We checked in very early...</td>\n",
       "      <td>{'username': 'Sueswim03', 'num_cities': 2, 'num_helpful_votes': 1, 'num_reviews': 2, 'location': 'Irvine, California', 'id': 'A8171ADE45270015FAFD48DDFBE45B28'}</td>\n",
       "      <td>October 2010</td>\n",
       "      <td>1218792</td>\n",
       "      <td>0</td>\n",
       "      <td>2010-10-05</td>\n",
       "      <td>82237329</td>\n",
       "      <td>False</td>\n",
       "    </tr>\n",
       "  </tbody>\n",
       "</table>\n",
       "</div>"
      ],
      "text/plain": [
       "                                                                                                                        ratings  \\\n",
       "260586  {'service': 5.0, 'cleanliness': 5.0, 'overall': 5.0, 'value': 5.0, 'location': 5.0, 'sleep_quality': 5.0, 'rooms': 4.0}   \n",
       "\n",
       "                                                              title  \\\n",
       "260586  “Great service, modern amenities, great views, small rooms”   \n",
       "\n",
       "                                                                                                                                                                                                           text  \\\n",
       "260586  If I had to go to NYC again, I would definitely check the rates for this Hilton Garden Inn. My husband and I stayed here just one night, but it was exactly what we needed. We checked in very early...   \n",
       "\n",
       "                                                                                                                                                                  author  \\\n",
       "260586  {'username': 'Sueswim03', 'num_cities': 2, 'num_helpful_votes': 1, 'num_reviews': 2, 'location': 'Irvine, California', 'id': 'A8171ADE45270015FAFD48DDFBE45B28'}   \n",
       "\n",
       "         date_stayed  offering_id  num_helpful_votes        date        id  \\\n",
       "260586  October 2010      1218792                  0  2010-10-05  82237329   \n",
       "\n",
       "        via_mobile  \n",
       "260586       False  "
      ]
     },
     "execution_count": 23,
     "metadata": {},
     "output_type": "execute_result"
    }
   ],
   "source": [
    "import pandas as pd\n",
    "\n",
    "pd.set_option('display.max_colwidth', 200)\n",
    "df = pd.read_csv('reviews.csv')\n",
    "df.sample(1)"
   ]
  },
  {
   "cell_type": "markdown",
   "metadata": {
    "collapsed": false,
    "pycharm": {
     "name": "#%%\n"
    }
   },
   "source": [
    "On the table Reviews.csv, keep only the reviews where ratings are composed strictly with this \n",
    "aspects:  \n",
    "“service”, “cleanliness”, “overall”, “value”, “location”, “sleep quality”, “rooms” \n",
    "(not more and not less in order to compare places accurately)"
   ]
  },
  {
   "cell_type": "code",
   "execution_count": 24,
   "metadata": {},
   "outputs": [
    {
     "data": {
      "text/html": [
       "<div>\n",
       "<style scoped>\n",
       "    .dataframe tbody tr th:only-of-type {\n",
       "        vertical-align: middle;\n",
       "    }\n",
       "\n",
       "    .dataframe tbody tr th {\n",
       "        vertical-align: top;\n",
       "    }\n",
       "\n",
       "    .dataframe thead th {\n",
       "        text-align: right;\n",
       "    }\n",
       "</style>\n",
       "<table border=\"1\" class=\"dataframe\">\n",
       "  <thead>\n",
       "    <tr style=\"text-align: right;\">\n",
       "      <th></th>\n",
       "      <th>ratings</th>\n",
       "      <th>title</th>\n",
       "      <th>text</th>\n",
       "      <th>author</th>\n",
       "      <th>date_stayed</th>\n",
       "      <th>offering_id</th>\n",
       "      <th>num_helpful_votes</th>\n",
       "      <th>date</th>\n",
       "      <th>id</th>\n",
       "      <th>via_mobile</th>\n",
       "    </tr>\n",
       "  </thead>\n",
       "  <tbody>\n",
       "    <tr>\n",
       "      <th>390574</th>\n",
       "      <td>{'service': 5.0, 'cleanliness': 5.0, 'overall': 5.0, 'value': 5.0, 'location': 4.0, 'sleep_quality': 5.0, 'rooms': 5.0}</td>\n",
       "      <td>“Renommée internationale”</td>\n",
       "      <td>Hôtel très chic à côté de l'aéroport, des locations de voitures, bien situé. Check-in rapide et service ok. Chambres spacieuses avec des lits queen bed plus que confortables. Petit-déjeuner excell...</td>\n",
       "      <td>{'username': 'Laetitiakse', 'num_cities': 33, 'num_helpful_votes': 15, 'num_reviews': 55, 'num_type_reviews': 24, 'id': 'F1CA1D56DE716553305607BDE3712DB2', 'location': 'Charleroi'}</td>\n",
       "      <td>May 2012</td>\n",
       "      <td>78046</td>\n",
       "      <td>0</td>\n",
       "      <td>2012-06-21</td>\n",
       "      <td>132416614</td>\n",
       "      <td>False</td>\n",
       "    </tr>\n",
       "  </tbody>\n",
       "</table>\n",
       "</div>"
      ],
      "text/plain": [
       "                                                                                                                        ratings  \\\n",
       "390574  {'service': 5.0, 'cleanliness': 5.0, 'overall': 5.0, 'value': 5.0, 'location': 4.0, 'sleep_quality': 5.0, 'rooms': 5.0}   \n",
       "\n",
       "                            title  \\\n",
       "390574  “Renommée internationale”   \n",
       "\n",
       "                                                                                                                                                                                                           text  \\\n",
       "390574  Hôtel très chic à côté de l'aéroport, des locations de voitures, bien situé. Check-in rapide et service ok. Chambres spacieuses avec des lits queen bed plus que confortables. Petit-déjeuner excell...   \n",
       "\n",
       "                                                                                                                                                                                      author  \\\n",
       "390574  {'username': 'Laetitiakse', 'num_cities': 33, 'num_helpful_votes': 15, 'num_reviews': 55, 'num_type_reviews': 24, 'id': 'F1CA1D56DE716553305607BDE3712DB2', 'location': 'Charleroi'}   \n",
       "\n",
       "       date_stayed  offering_id  num_helpful_votes        date         id  \\\n",
       "390574    May 2012        78046                  0  2012-06-21  132416614   \n",
       "\n",
       "        via_mobile  \n",
       "390574       False  "
      ]
     },
     "execution_count": 24,
     "metadata": {},
     "output_type": "execute_result"
    }
   ],
   "source": [
    "required_aspects = {\"service\", \"cleanliness\", \"overall\", \"value\", \"location\", \"sleep_quality\", \"rooms\"}\n",
    "\n",
    "filtered_df = df[df['ratings'].apply(lambda x: set(eval(x).keys()) == required_aspects)]\n",
    "\n",
    "filtered_df.sample(1)"
   ]
  },
  {
   "cell_type": "markdown",
   "metadata": {},
   "source": [
    "You must concatenate reviews from the same place based on attribute “offering_id”. The rating of a \n",
    "place is just the average of all the reviews ratings on each aspect."
   ]
  },
  {
   "cell_type": "code",
   "execution_count": 25,
   "metadata": {},
   "outputs": [
    {
     "name": "stderr",
     "output_type": "stream",
     "text": [
      "/var/folders/3n/z5lgbp_j3c9452g4rvftntrm0000gn/T/ipykernel_55342/854557759.py:2: SettingWithCopyWarning: \n",
      "A value is trying to be set on a copy of a slice from a DataFrame.\n",
      "Try using .loc[row_indexer,col_indexer] = value instead\n",
      "\n",
      "See the caveats in the documentation: https://pandas.pydata.org/pandas-docs/stable/user_guide/indexing.html#returning-a-view-versus-a-copy\n",
      "  filtered_df['ratings'] = filtered_df['ratings'].apply(eval) #Modify filtered_df to convert ratings field from string to dictionary (json format)\n"
     ]
    },
    {
     "data": {
      "text/html": [
       "<div>\n",
       "<style scoped>\n",
       "    .dataframe tbody tr th:only-of-type {\n",
       "        vertical-align: middle;\n",
       "    }\n",
       "\n",
       "    .dataframe tbody tr th {\n",
       "        vertical-align: top;\n",
       "    }\n",
       "\n",
       "    .dataframe thead th {\n",
       "        text-align: right;\n",
       "    }\n",
       "</style>\n",
       "<table border=\"1\" class=\"dataframe\">\n",
       "  <thead>\n",
       "    <tr style=\"text-align: right;\">\n",
       "      <th></th>\n",
       "      <th>service</th>\n",
       "      <th>cleanliness</th>\n",
       "      <th>overall</th>\n",
       "      <th>value</th>\n",
       "      <th>location</th>\n",
       "      <th>sleep_quality</th>\n",
       "      <th>rooms</th>\n",
       "      <th>text</th>\n",
       "      <th>offering_id</th>\n",
       "    </tr>\n",
       "  </thead>\n",
       "  <tbody>\n",
       "    <tr>\n",
       "      <th>207661</th>\n",
       "      <td>5.0</td>\n",
       "      <td>5.0</td>\n",
       "      <td>5.0</td>\n",
       "      <td>5.0</td>\n",
       "      <td>5.0</td>\n",
       "      <td>5.0</td>\n",
       "      <td>5.0</td>\n",
       "      <td>I really enjoyed the The Peal Hotel. \\n It was fun, funky, comfortable and ultra groovy. Brianna, Thomas, Devon and the rest of the staff were awesome. My roommate Greta the fish was quiet when I ...</td>\n",
       "      <td>658421</td>\n",
       "    </tr>\n",
       "  </tbody>\n",
       "</table>\n",
       "</div>"
      ],
      "text/plain": [
       "        service  cleanliness  overall  value  location  sleep_quality  rooms  \\\n",
       "207661      5.0          5.0      5.0    5.0       5.0            5.0    5.0   \n",
       "\n",
       "                                                                                                                                                                                                           text  \\\n",
       "207661  I really enjoyed the The Peal Hotel. \\n It was fun, funky, comfortable and ultra groovy. Brianna, Thomas, Devon and the rest of the staff were awesome. My roommate Greta the fish was quiet when I ...   \n",
       "\n",
       "        offering_id  \n",
       "207661       658421  "
      ]
     },
     "execution_count": 25,
     "metadata": {},
     "output_type": "execute_result"
    }
   ],
   "source": [
    "# Convert ratings field to dictionary and expand it to columns\n",
    "filtered_df['ratings'] = filtered_df['ratings'].apply(eval) #Modify filtered_df to convert ratings field from string to dictionary (json format)\n",
    "filtered_df = filtered_df.reset_index(drop=True) #Reset index of filtered_df to avoid misalignment issues\n",
    "ratings_expanded_df = pd.json_normalize(filtered_df['ratings']) #expand dictionary to columns\n",
    "selected_columns_df = filtered_df[['text', 'offering_id']] \n",
    "expanded_df = pd.concat([ratings_expanded_df, selected_columns_df], axis=1) # join with offering_id, title and text\n",
    "\n",
    "expanded_df.sample(1)"
   ]
  },
  {
   "cell_type": "code",
   "execution_count": 26,
   "metadata": {},
   "outputs": [
    {
     "data": {
      "text/html": [
       "<div>\n",
       "<style scoped>\n",
       "    .dataframe tbody tr th:only-of-type {\n",
       "        vertical-align: middle;\n",
       "    }\n",
       "\n",
       "    .dataframe tbody tr th {\n",
       "        vertical-align: top;\n",
       "    }\n",
       "\n",
       "    .dataframe thead th {\n",
       "        text-align: right;\n",
       "    }\n",
       "</style>\n",
       "<table border=\"1\" class=\"dataframe\">\n",
       "  <thead>\n",
       "    <tr style=\"text-align: right;\">\n",
       "      <th></th>\n",
       "      <th>offering_id</th>\n",
       "      <th>service</th>\n",
       "      <th>cleanliness</th>\n",
       "      <th>overall</th>\n",
       "      <th>value</th>\n",
       "      <th>location</th>\n",
       "      <th>sleep_quality</th>\n",
       "      <th>rooms</th>\n",
       "      <th>text</th>\n",
       "    </tr>\n",
       "  </thead>\n",
       "  <tbody>\n",
       "    <tr>\n",
       "      <th>2483</th>\n",
       "      <td>240079</td>\n",
       "      <td>2.0</td>\n",
       "      <td>3.2</td>\n",
       "      <td>1.8</td>\n",
       "      <td>2.8</td>\n",
       "      <td>3.4</td>\n",
       "      <td>2.6</td>\n",
       "      <td>2.8</td>\n",
       "      <td>We just wanted a place to sleep and shower on our way to New York, mainly to kill some time while the roads were cleared from the snowstorm. It was late. We noticed right away some food smeared on...</td>\n",
       "    </tr>\n",
       "  </tbody>\n",
       "</table>\n",
       "</div>"
      ],
      "text/plain": [
       "      offering_id  service  cleanliness  overall  value  location  \\\n",
       "2483       240079      2.0          3.2      1.8    2.8       3.4   \n",
       "\n",
       "      sleep_quality  rooms  \\\n",
       "2483            2.6    2.8   \n",
       "\n",
       "                                                                                                                                                                                                         text  \n",
       "2483  We just wanted a place to sleep and shower on our way to New York, mainly to kill some time while the roads were cleared from the snowstorm. It was late. We noticed right away some food smeared on...  "
      ]
     },
     "execution_count": 26,
     "metadata": {},
     "output_type": "execute_result"
    }
   ],
   "source": [
    "# Calculate the mean of each rating aspect and concatenate texts of reviews\n",
    "combined_df = expanded_df.groupby('offering_id').agg(\n",
    "    service=('service', 'mean'),  # Average rating for 'service' aspect (you can add others as needed)\n",
    "    cleanliness=('cleanliness', 'mean'),\n",
    "    overall=('overall', 'mean'),\n",
    "    value=('value', 'mean'),\n",
    "    location=('location', 'mean'),\n",
    "    sleep_quality=('sleep_quality', 'mean'),\n",
    "    rooms=('rooms', 'mean'),\n",
    "    text=('text', lambda x: ' '.join(x)), # Concatenate all text entries\n",
    ").reset_index()\n",
    "\n",
    "combined_df.sample(1)"
   ]
  },
  {
   "cell_type": "markdown",
   "metadata": {},
   "source": [
    "### 2)"
   ]
  },
  {
   "cell_type": "code",
   "execution_count": 27,
   "metadata": {},
   "outputs": [
    {
     "name": "stdout",
     "output_type": "stream",
     "text": [
      "Query Place Details:\n",
      "Offering ID: 502408\n",
      "Ratings:\n",
      "  service: 5.0\n",
      "  cleanliness: 5.0\n",
      "  overall: 5.0\n",
      "  value: 4.0\n",
      "  location: 5.0\n",
      "  sleep_quality: 5.0\n",
      "  rooms: 5.0\n",
      "\n",
      "Reviews texts concatenated:\n",
      "I visited NYC for the first time the last week of March with my son, daughter-in-law, 14 year old grandson & 12 year old granddaughter. We had a junior suite with 2 queen beds & a full size hidebed. I was worried the 5 of us would be stumbling all over each other in one room, but it was perfect, much larger than I expected. Anything we asked for, more towels, more coffee, a bellman when we left , etc. was supplied within 5 minutes. The location was great. We walked to St. Patrick's, TIme Square, Grand Central Terminal, & more. Also it was very convenient to the subway. I would highly recommend this hotel to families and if I ever visit NYC again, I'll stay at Affinia 50.\n"
     ]
    }
   ],
   "source": [
    "# Select a random query place from the dataset\n",
    "query_place = expanded_df.sample(1).iloc[0]\n",
    "# And print its details\n",
    "query_id = query_place['offering_id']\n",
    "query_ratings = query_place[['service', 'cleanliness', 'overall', 'value', 'location', 'sleep_quality', 'rooms']]\n",
    "query_text = query_place['text']\n",
    "print(\"Query Place Details:\")\n",
    "print(f\"Offering ID: {query_id}\")\n",
    "print(\"Ratings:\")\n",
    "for aspect, rating in query_ratings.items():\n",
    "    print(f\"  {aspect}: {rating}\")\n",
    "print(\"\\nReviews texts concatenated:\")\n",
    "print(query_text)\n",
    "\n",
    "# Exclude from combined_df the row (place) with the same offering_id as the query place\n",
    "# to avoid recommending it\n",
    "documents_df = combined_df[combined_df['offering_id'] != query_id].reset_index(drop=True)\n"
   ]
  },
  {
   "cell_type": "code",
   "execution_count": null,
   "metadata": {},
   "outputs": [
    {
     "name": "stdout",
     "output_type": "stream",
     "text": [
      "[2024-11-22 14:47:45] Started BM25 ranking...\n",
      "[2024-11-22 14:49:37] BM25 ranking completed.\n",
      "[2024-11-22 14:49:37] Started BM25 scoring...\n",
      "[2024-11-22 14:49:38] BM25 scoring completed.\n",
      "[2024-11-22 14:49:38] Top matching place retrieved.\n",
      "[2024-11-22 14:49:38] MSE calculated.\n",
      "Query Offering ID: 502408\n",
      "Recommended Offering ID: 292142\n",
      "BM25 Score: 438.7279450206638\n",
      "MSE: 0.21538939690925638\n"
     ]
    }
   ],
   "source": [
    "from rank_bm25 import BM25Okapi\n",
    "from sklearn.metrics import mean_squared_error\n",
    "from datetime import datetime\n",
    "\n",
    "# Load and preprocess the reviews (assuming df contains concatenated reviews by 'offering_id')\n",
    "documents = documents_df['text'].apply(lambda x: x.split())  # Tokenize each document by splitting words\n",
    "bm25 = BM25Okapi(documents)\n",
    "\n",
    "# Define a query (a review or set of reviews from a specific place)\n",
    "tokenized_query = query_text.split()  # Tokenized query\n",
    "\n",
    "# Get BM25 scores for the query across all documents\n",
    "scores = bm25.get_scores(tokenized_query)\n",
    "\n",
    "# Step 5: Retrieve the top matching place based on BM25 score\n",
    "top_n = 1  # Number of top matches to retrieve\n",
    "top_match_index = sorted(range(len(scores)), key=lambda i: scores[i], reverse=True)[:top_n][0] # Sorts the scores in descending order and retrieves the highest score\n",
    "top_match = documents_df.iloc[top_match_index]\n",
    "\n",
    "# Step 6: Calculate the MSE between the ratings of the query place and the recommended place\n",
    "recommended_ratings = top_match[['service', 'cleanliness', 'overall', 'value', 'location', 'sleep_quality', 'rooms']]\n",
    "mse = mean_squared_error(query_ratings, recommended_ratings)\n",
    "\n",
    "# Print the results\n",
    "print(f\"Query Offering ID: {query_id}\")\n",
    "print(f\"Recommended Offering ID: {top_match['offering_id']}\")\n",
    "print(f\"BM25 Score: {scores[top_match_index]}\")\n",
    "print(f\"MSE: {mse}\")"
   ]
  }
 ],
 "metadata": {
  "kernelspec": {
   "display_name": "base",
   "language": "python",
   "name": "python3"
  },
  "language_info": {
   "codemirror_mode": {
    "name": "ipython",
    "version": 3
   },
   "file_extension": ".py",
   "mimetype": "text/x-python",
   "name": "python",
   "nbconvert_exporter": "python",
   "pygments_lexer": "ipython3",
   "version": "3.11.8"
  }
 },
 "nbformat": 4,
 "nbformat_minor": 2
}
