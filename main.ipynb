{
 "cells": [
  {
   "cell_type": "markdown",
   "metadata": {
    "collapsed": false,
    "pycharm": {
     "name": "#%% md\n"
    }
   },
   "source": [
    "## **Project One: TripAdvisor Recommendation Challenge - Beating BM25**\n",
    "_**Authors:** Alberto MARTINELLI, Alessia SARRITZU_\n",
    "\n",
    "The goal of the project is to develop a recommendation system that relies solely on user reviews to suggest similar places based on given queries. The system will propose the most relevant location based on the text of the reviews.\n",
    "\n",
    "1. **Data pre-processing**:\n",
    "  - Utilise only the reviews where ratings are composed strictly with this aspects on reviews with ratings for the following aspects: **service**, **cleanliness**, **overall**, **value**, **location**, **sleep quality**, and **rooms**.\n",
    "  - Concatenate reviews by `offering_id` to compute average ratings for evaluation.\n",
    "\n",
    "2. **BM25 Implementation**:\n",
    "    - Implement a BM25 baseline using the **Rank-BM25** library.\n",
    "    - Measure the performance of BM25 through Mean Square Error (MSE) between the ratings of the query place and the recommended place.\n",
    "\n",
    "3. **Enhanced Unsupervised Model**:\n",
    "    - Create a new unsupervised model to outperform BM25, potentially integrating it with other methods, while ensuring the model does not directly utilize ratings in its learning process.\n",
    "    - Measure performance of the **Enhanced Model** through Mean Square Error (MSE) between the ratings of the query place and the recommended place, with the aim of achieving a lower MSE than the BM25 baseline."
   ]
  },
  {
   "cell_type": "markdown",
   "metadata": {},
   "source": [
    "# 1)"
   ]
  },
  {
   "cell_type": "code",
   "execution_count": 28,
   "metadata": {
    "collapsed": false,
    "pycharm": {
     "name": "#%%\n"
    }
   },
   "outputs": [
    {
     "data": {
      "text/html": [
       "<div>\n",
       "<style scoped>\n",
       "    .dataframe tbody tr th:only-of-type {\n",
       "        vertical-align: middle;\n",
       "    }\n",
       "\n",
       "    .dataframe tbody tr th {\n",
       "        vertical-align: top;\n",
       "    }\n",
       "\n",
       "    .dataframe thead th {\n",
       "        text-align: right;\n",
       "    }\n",
       "</style>\n",
       "<table border=\"1\" class=\"dataframe\">\n",
       "  <thead>\n",
       "    <tr style=\"text-align: right;\">\n",
       "      <th></th>\n",
       "      <th>ratings</th>\n",
       "      <th>title</th>\n",
       "      <th>text</th>\n",
       "      <th>author</th>\n",
       "      <th>date_stayed</th>\n",
       "      <th>offering_id</th>\n",
       "      <th>num_helpful_votes</th>\n",
       "      <th>date</th>\n",
       "      <th>id</th>\n",
       "      <th>via_mobile</th>\n",
       "    </tr>\n",
       "  </thead>\n",
       "  <tbody>\n",
       "    <tr>\n",
       "      <th>626316</th>\n",
       "      <td>{'service': 4.0, 'cleanliness': 5.0, 'overall': 5.0, 'value': 5.0, 'location': 5.0, 'sleep_quality': 5.0, 'rooms': 5.0}</td>\n",
       "      <td>“Cant beat the location”</td>\n",
       "      <td>I was debating if I should stay at Hyatt at Fishermans Wharf or the Grand Hyatt. I wont regret this place is completely refurbished and rooms was real nice and jazzy. \\nThe club is really great. The best is the coffee machine and could get my Cappuccion any time. Right next to the shopping district and it is not more than $15 cab ride to the Fishermans wharf. You could also take $6 ride on the cable car right from the next block.\\nI would certainly come back again to this property.</td>\n",
       "      <td>{'username': 'Trvlr_freq', 'num_cities': 12, 'num_helpful_votes': 6, 'num_reviews': 22, 'num_type_reviews': 14, 'id': '8FCA7E4FB78D333CA290754FC9AB88B6', 'location': 'Bloomington, Illinois'}</td>\n",
       "      <td>November 2012</td>\n",
       "      <td>80999</td>\n",
       "      <td>0</td>\n",
       "      <td>2012-12-16</td>\n",
       "      <td>147578986</td>\n",
       "      <td>False</td>\n",
       "    </tr>\n",
       "  </tbody>\n",
       "</table>\n",
       "</div>"
      ],
      "text/plain": [
       "                                                                                                                        ratings  \\\n",
       "626316  {'service': 4.0, 'cleanliness': 5.0, 'overall': 5.0, 'value': 5.0, 'location': 5.0, 'sleep_quality': 5.0, 'rooms': 5.0}   \n",
       "\n",
       "                           title  \\\n",
       "626316  “Cant beat the location”   \n",
       "\n",
       "                                                                                                                                                                                                                                                                                                                                                                                                                                                                                                          text  \\\n",
       "626316  I was debating if I should stay at Hyatt at Fishermans Wharf or the Grand Hyatt. I wont regret this place is completely refurbished and rooms was real nice and jazzy. \\nThe club is really great. The best is the coffee machine and could get my Cappuccion any time. Right next to the shopping district and it is not more than $15 cab ride to the Fishermans wharf. You could also take $6 ride on the cable car right from the next block.\\nI would certainly come back again to this property.   \n",
       "\n",
       "                                                                                                                                                                                                author  \\\n",
       "626316  {'username': 'Trvlr_freq', 'num_cities': 12, 'num_helpful_votes': 6, 'num_reviews': 22, 'num_type_reviews': 14, 'id': '8FCA7E4FB78D333CA290754FC9AB88B6', 'location': 'Bloomington, Illinois'}   \n",
       "\n",
       "          date_stayed  offering_id  num_helpful_votes        date         id  \\\n",
       "626316  November 2012        80999                  0  2012-12-16  147578986   \n",
       "\n",
       "        via_mobile  \n",
       "626316       False  "
      ]
     },
     "execution_count": 28,
     "metadata": {},
     "output_type": "execute_result"
    }
   ],
   "source": [
    "import pandas as pd\n",
    "\n",
    "pd.set_option('display.max_colwidth', None)\n",
    "df = pd.read_csv('reviews.csv')\n",
    "df.sample(1)"
   ]
  },
  {
   "cell_type": "markdown",
   "metadata": {
    "collapsed": false,
    "pycharm": {
     "name": "#%%\n"
    }
   },
   "source": [
    "On the table Reviews.csv, keep only the reviews where ratings are composed strictly with this \n",
    "aspects:  \n",
    "“service”, “cleanliness”, “overall”, “value”, “location”, “sleep quality”, “rooms” \n",
    "(not more and not less in order to compare places accurately)"
   ]
  },
  {
   "cell_type": "code",
   "execution_count": null,
   "metadata": {},
   "outputs": [
    {
     "name": "stdout",
     "output_type": "stream",
     "text": [
      "                                                                                                                        ratings  \\\n",
      "0       {'service': 5.0, 'cleanliness': 5.0, 'overall': 5.0, 'value': 5.0, 'location': 5.0, 'sleep_quality': 5.0, 'rooms': 5.0}   \n",
      "1       {'service': 5.0, 'cleanliness': 5.0, 'overall': 5.0, 'value': 5.0, 'location': 5.0, 'sleep_quality': 5.0, 'rooms': 5.0}   \n",
      "2       {'service': 4.0, 'cleanliness': 5.0, 'overall': 4.0, 'value': 4.0, 'location': 5.0, 'sleep_quality': 4.0, 'rooms': 4.0}   \n",
      "3       {'service': 5.0, 'cleanliness': 5.0, 'overall': 4.0, 'value': 5.0, 'location': 5.0, 'sleep_quality': 5.0, 'rooms': 5.0}   \n",
      "4       {'service': 4.0, 'cleanliness': 5.0, 'overall': 4.0, 'value': 3.0, 'location': 5.0, 'sleep_quality': 5.0, 'rooms': 5.0}   \n",
      "...                                                                                                                         ...   \n",
      "878548  {'service': 4.0, 'cleanliness': 5.0, 'overall': 4.0, 'value': 3.0, 'location': 4.0, 'sleep_quality': 4.0, 'rooms': 4.0}   \n",
      "878549  {'service': 5.0, 'cleanliness': 5.0, 'overall': 5.0, 'value': 5.0, 'location': 5.0, 'sleep_quality': 5.0, 'rooms': 5.0}   \n",
      "878550  {'service': 5.0, 'cleanliness': 5.0, 'overall': 5.0, 'value': 4.0, 'location': 5.0, 'sleep_quality': 5.0, 'rooms': 5.0}   \n",
      "878551  {'service': 5.0, 'cleanliness': 5.0, 'overall': 5.0, 'value': 5.0, 'location': 5.0, 'sleep_quality': 5.0, 'rooms': 5.0}   \n",
      "878552  {'service': 4.0, 'cleanliness': 5.0, 'overall': 4.0, 'value': 4.0, 'location': 3.0, 'sleep_quality': 5.0, 'rooms': 4.0}   \n",
      "\n",
      "                                                                          title  \\\n",
      "0                                     “Truly is \"Jewel of the Upper Wets Side\"”   \n",
      "1                                                     “My home away from home!”   \n",
      "2                                                                  “Great Stay”   \n",
      "3                                                          “Modern Convenience”   \n",
      "4                               “Its the best of the Andaz Brand in the US....”   \n",
      "...                                                                         ...   \n",
      "878548  “Perfekte Location, modernes & chices Ambiente und charmantes Service.”   \n",
      "878549                                                   “Superhotel Superlage”   \n",
      "878550                                                 “das etwas andere Hotel”   \n",
      "878551                                                          “RIEN DE MIEUX”   \n",
      "878552                                                                “Superbe”   \n",
      "\n",
      "                                                                                                                                                                                                                                                                                                                                                                                                                                                                                                                                                                                                                                                                                                                                                                                                                                                                                                                                                                                                                                                                                                                                                                                                                                                                                                                                                                                                                                                                                                                                                                                                                                                                                                                                                                                                                                                                                                                                                                                                                                                                                                                                                                                                                                                                                                                                                                                                                                                                                                                                                                                                                                                                                                                                                      text  \\\n",
      "0                                                                                                                                                                                                                                                                                                                                                                                                                                                                                                                                                                                                                                                                                                                                                                                                                                                                                                                                                                                                                                                                                                                                                                                                                                                                                                                                                                                                                                                                                                                                                                                                    Stayed in a king suite for 11 nights and yes it cots us a bit but we were happy with the standard of room, the location and the friendliness of the staff. Our room was on the 20th floor overlooking Broadway and the madhouse of the Fairway Market. Room was quite with no noise evident from the hallway or adjoining rooms. It was great to be able to open windows when we craved fresh rather than heated air. The beds, including the fold out sofa bed, were comfortable and the rooms were cleaned well. Wi-fi access worked like a dream with only one connectivity issue on our first night and this was promptly responded to with a call from the service provider to ensure that all was well. The location close to the 72nd Street subway station is great and the complimentary umbrellas on the drizzly days were greatly appreciated. It is fabulous to have the kitchen with cooking facilities and the access to a whole range of fresh foods directly across the road at Fairway.\\nThis is the second time that members of the party have stayed at the Beacon and it will certainly be our hotel of choice for future visits.   \n",
      "1                                                                                                                                                                                                                                                                                                                                                                                                                                                                                                                                                                                                                                                                                                                                                                                                                                                                                                                                                                                                                                                                                                                                                                                                                                                                                                                                                                                                                                                                                                                                                                                                                                                                                                                                                                                                                                                                                                                                                                                                                                                                                                                                                                                                                                                                                                       On every visit to NYC, the Hotel Beacon is the place we love to stay. So conveniently located to Central Park, Lincoln Center and great local restaurants. The rooms are lovely - beds so comfortable, a great little kitchen and new wizz bang coffee maker. The staff are so accommodating and just love walking across the street to the Fairway supermarket with every imaginable goodies to eat (if you choose not to go out for every meal!)   \n",
      "2                                                                                                                                                                                                                                                                                                                                                                                                                                                                                                                                                                                                                                                                                                                                                                                                                                                                                                                                                                                                                                                                                                                                                                                                                                                                                                                                                                                                                                                                                                                                                                                                                                                                                                                                                                                                                                                                                                                                                                                                                                                                                                                                                                                                    This is a great property in Midtown. We two different rooms different rooms during our stay. The first room was in the North tower, which was quite inconvenient. You have to go through the conference area to get to the north elevators. \\nThe second room was the Andaz Suite. It was nicely appointed room, but the best part about it was the bathroom. From the foot soaking bowl to the bath products, everything about the bathroom was awesome!\\nLemon poppy-seed pancakes are must haves at the restaurant. One of the best pancakes ever.   \n",
      "3                                                                                                                                                                                                                                                                                                                                                                                                                                                                                                                                                                                                                                                                                                                                                                                                                                                                                                                                                                                                                                                                                                                                                                                                              The Andaz is a nice hotel in a central location of Manhattan. The Hyatt has come up with a modern hotel that is both comfortable and convenient. When you arrive you are greeted by friendly \"Hosts\" and they walk you to the check-in desk while offering you a beverage. \\nWe had a one bedroom suite that accommodated four people reasonably well. Plenty of closet space, well lit with floor to ceiling windows, and actually quiet!\\nThe bathroom was large with a very nice walk-in shower and a built-in bench with unique low spout to wash your feet.\\nThe kitchenette was a nice touch with a stocked fridge offering complimentary non-alcoholic beverages and snacks, dishes and utensils, a sink, dishwasher, and a microwave. \\nThey have daily Happy Hour(s) where you can get a complimentary decent glass of wine in the modest Lobby Lounge and bring it to your room. The Lobby Lounge has some seating and one table with 8 or so chairs where you can buy food from the adjacent restaurant. One suggestion is to offer selections of cheese and crackers platters to go with that wine. We ordered one that had to be custom made, but it worked well. \\nWe didn't eat in the hotel restaurants. The restaurant off the lobby was very pricey for breakfast (+$20 per entree). When you can get a decent breakfast within a block or two of the hotel for under $10, what can I say?\\nAs a hotel designer and someone who is very picky about hotels, I will definitely stay there again and I highly recommend it.   \n",
      "4       I have stayed at each of the US Andaz properties, and this one is the best of them all. MUCH better than the West Hollywood property where Brand standards are slowly fading. This is the shining star here in the States.\\nMy room (suite) on the 12th floor was fantastic as usual. Perfectly maintained, very comfortable, great bathrooms (best in NYC???). The bathroom is huge, with large shower 'room' and multiple shower heads. Double lavatories flank one wall. Huge....\\nTHe bed is always perfect. Televisions in both rooms were perfect for my limited time spend in the suite. Nice desk for work area and in room dining. \\nEvery room has a fridge with complimentary soft drinks, snacks, water, sparkling water, milk and juices. Nice touch. Suite has full size refrigerator with icemaker, and also features a microwave, sink and dishwasher drawer....all nicely concealed behind beautiful cabinetry. Really great for a longer stay...\\nI do have 2 complaints. First, the elevators. The waits were sometimes ridiculous. 3 elevators serve the main tower with a rather limited number of rooms. THis is a newer hotel, but there is no service elevator. I was continually surprised after waiting for an elevator at how many stops we made for housekeeping to enter with carts, room service carts and trays, etc. How could Hyatt skip a service elevator on this new property? It really stinks at times.....its bad.\\nLastly, i have traveled with world and certainly know NYC pricing. Breakfast at the Andaz ranks above almost anything i have ever paid. Apparently, i had a $190.00 breakfast for two the first morning, and $175.00 the second. Eggs for each, coffee, berries. Wow. Of course, i really don't know...as there is no bill. They just deliver it, and leave. Prices are listed in the in-suite menu, but no itemized billing is given. I am 'gifted' with a $75.00 credit for my breakfast as a Diamond member, and i assumed that had not been applied when my bill reflected a 'non itemized' charge for $110 plus for the first night, and slightly less for the second. I was wrong, it had been applied (no way for me to see this). WOW. It certainly isn't worth it.\\nI know i sound like one of those guys who complains about pricing, but clearly doesn't know what things cost. Wrong. This one really surprised me, and i have traveled the world for more than 20 years staying in some of the finest hotels in the world. Andaz is great, but it doesn't rank with many that i have had the pleasure of staying with.\\nI just had breakfast this morning for 2 at the Four Seasons NYC. It was half the cost....almost. :)\\nStay away from room service in my opinion....   \n",
      "...                                                                                                                                                                                                                                                                                                                                                                                                                                                                                                                                                                                                                                                                                                                                                                                                                                                                                                                                                                                                                                                                                                                                                                                                                                                                                                                                                                                                                                                                                                                                                                                                                                                                                                                                                                                                                                                                                                                                                                                                                                                                                                                                                                                                                                                                                                                                                                                                                                                                                                                                                                                                                                                                                                                                                    ...   \n",
      "878548                                                                                                                                                                                                                                                                                                                                                                                                                                                                                                                                                                                                                                                                                                                                                                                                                                                                                                                                                                                                                                                                                                                                                                                                                                                                                                                                                                                                                                                                                                                                                                                                                                                                                                                                                                                                                                                                                                                                                                                                                                                                                                                                                                                                                                                                                                                                                                                                   Das Hotel Palomar gehoert zur Kimpton Gruppe, liegt 2 minuten vom Dupont Circle hervorragend gelegen und ist ein modernes Boutiquehotel der gehobenen Kategorie.\\nMein Zimmer war nicht riesig aber sehr chic/elegant eingerichtet. Das Hotel verfuegt ueber einen Swimmingpool und einen kleinen Gym. Ein angenehmes, praktisches Businesshotel.   \n",
      "878549                                                                                                                                                                                                                                                                                                                                                                                                                                                                                                                                                                                                                                                                                                                                                                                                                                                                                                                                                                                                                                                                                                                                                                                                                                                                                                                                                                                                                                                                                                                                                                                                                                                                                                                                                                                                                                                                                                                                                                                                                                                Anlässlich einer Geschäftsreise waren wir das 2. Mal im Hotel Palomar in Washington.\\nDie Zimmer sind sehr großzügig, sehr sauber und besonders Geschmackvoll eingerichtet.\\nBesonders schätzten wir die tägliche open wine bar in der Lobby, die sich ausgezeichnet eignet um auch mit anderen Gästen des Hauses ins Gespräch zu kommen. Dem Hotel angegliedert ist ein sehr gutes und nettes Restaurant und eine sensationelle Bar die abends von einem jungen internationalen Publikum aus der Umgebung besucht wird. Hier kommt die Nähe zum Dupont Circle und den vielen Botschaften voll zum Tragen. Wenn wir wieder mal in Washington sind, werden wir auf alle Fälle wieder im Palomar sein!   \n",
      "878550                                                                                                                                                                                                                                                                                                                                                                                                                                                                                                                                                                                                                                                                                                                                                                                                                                                                                                                                                                                                                                                                                                                                                                                                                                                                                                                                                                                                                                                                                                                                                                                                                                                                                                                                                                                                                                                                                                                                                                                                                                                                                                                                                                                                                                                                                                                                                                                                                      Das Hotel liegt in Arlington, eine etwas gehobeneren Gegend.\\nwenn man über die Brücke läuft, kommt man nach ca.10 Min in Georgtown an, dort gibt es super schöne Restaurants und Shopping Malls, hinzukommt das dieser Ort den Eindruck des \"alten Amerikas\" vermittelt.\\nDie Häuser sind so wie man es aus den Filmen kennt.   \n",
      "878551                                                                                                                                                                                                                                                                                                                                                                                                                                                                                                                                                                                                                                                                                                                                                                                                                                                                                                                                                                                                                                                                                                                                                                                                                                                                                                                                                                                                                                                                                                                                                                                                                                                                                                                                                                                                                                  Mon mari et moi sommes restés à l'hôtel du jeudi matin au dimanche après-midi. Nous avons été plus que satisfaits de notre séjour à cet hôtel. Il est superbe, le service est vraiment hors pair, le personnel est tellement gentil. Il nous fait sentir très important. Chaque désir est comblé. Cet hôtel est dans un quartier très sympatique et très huppé. Il se situe près des ambassades, près du métro qui se trouve à moins de 5 minutes, de plusieurs restos, etc.. L'hôtel offre à ses clients une réception à tous les soirs entre 5:00 et 6:00 avec vin offert gratuitement et quelques petites bouchées. Nous sommes arrivés le jeudi matin à 6:30, le check-in est habituellement à 15:00 et ils nous ont laissé monter à la chambre sans problème. La chambre immense est très luxueuse. Je promets de faire de la chaîne Kimpton, ma favorite dans tous mes déplacements. \\nDiane & Raouf Dimitri   \n",
      "878552                                                                                                                                                                                                                                                                                                                                                                                                                                                                                                                                                                                                                                                                                                                                                                                                                                                                                                                                                                                                                                                                                                                                                                                                                                                                                                                                                                                                                                                                                                                                                                                                                                                                                                                                                                                                                                                                                                                                                                                                                                                                                                                                                                                                                           Hôtel un peu éloigné du Mall et du centre mais il y a une station de métro proche. \\nCalme tout en étant proche d'un quartier animé. Possibilité de trouver des restaurants pour le petit-déjeuner et le dîner pas trop loin. \\nL'accueil est agréable par un personnel compétent. Chambre vaste et confortable. \\nBoissons chaudes à disposition dans le hall le matin. Verre de vin offert tous les soirs à 18h00. \\nNous n'avons pas testé la restauration de cet hôtel. \\nLigne de métro directe pour la gare à 5 mn.   \n",
      "\n",
      "                                                                                                                                                                                                 author  \\\n",
      "0                  {'username': 'Papa_Panda', 'num_cities': 22, 'num_helpful_votes': 12, 'num_reviews': 29, 'num_type_reviews': 24, 'id': '8C0B42FF3C0FA366A21CFD785302A032', 'location': 'Gold Coast'}   \n",
      "1                                              {'username': 'Maureen V', 'num_reviews': 2, 'num_cities': 2, 'id': 'E3C85CA9DBBBC77E0DB534ABE93E4713', 'location': 'Sydney, New South Wales, Australia'}   \n",
      "2                         {'username': 'vuguru', 'num_cities': 12, 'num_helpful_votes': 17, 'num_reviews': 14, 'num_type_reviews': 14, 'id': 'FB1032DECE1162CB3556D05F278AAFFD', 'location': 'Houston'}   \n",
      "3           {'username': 'Hotel-Designer', 'num_cities': 5, 'num_helpful_votes': 26, 'num_reviews': 5, 'num_type_reviews': 5, 'id': 'EC3E275EE7590694889C8C7EE0D13961', 'location': 'Laguna Beach, CA'}   \n",
      "4       {'username': 'JamesE339', 'num_cities': 34, 'num_helpful_votes': 65, 'num_reviews': 104, 'num_type_reviews': 49, 'id': 'BA524A238B1171206691A6CC3F28F266', 'location': 'Saint Louis, Missouri'}   \n",
      "...                                                                                                                                                                                                 ...   \n",
      "878548               {'username': 'berlinrocks', 'num_cities': 3, 'num_reviews': 3, 'num_type_reviews': 3, 'id': 'D3869189DDA7EBE1067D11F92E294B1E', 'location': 'Washington DC, District of Columbia'}   \n",
      "878549                                                            {'username': 'stellatux', 'num_reviews': 3, 'num_cities': 3, 'id': '3A07A1C120FBA55B39CD29140508C4F6', 'location': 'Munich, Germany'}   \n",
      "878550                                                                   {'username': 'Putzi123', 'num_reviews': 2, 'num_cities': 2, 'id': '739C5D4C99D89623B53AAECFA0D5179D', 'location': 'Frankfurt'}   \n",
      "878551                                                                 {'username': 'DodieLachine', 'num_reviews': 2, 'num_cities': 2, 'id': '0590C30482A1E0C425B937BC43F04F9B', 'location': 'Lachine'}   \n",
      "878552                {'username': 'brunissandre', 'num_cities': 18, 'num_helpful_votes': 3, 'num_reviews': 22, 'num_type_reviews': 19, 'id': 'D4C1231DDCB1AE51C0CC78ED628DDC63', 'location': 'France'}   \n",
      "\n",
      "           date_stayed  offering_id  num_helpful_votes        date         id  \\\n",
      "0        December 2012        93338                  0  2012-12-17  147643103   \n",
      "1        December 2012        93338                  0  2012-12-17  147639004   \n",
      "2        December 2012      1762573                  0  2012-12-18  147697954   \n",
      "3          August 2012      1762573                  0  2012-12-17  147625723   \n",
      "4        December 2012      1762573                  0  2012-12-17  147612823   \n",
      "...                ...          ...                ...         ...        ...   \n",
      "878548       July 2010        84093                  0  2010-08-02   73467940   \n",
      "878549  September 2009        84093                  0  2010-08-02   73351022   \n",
      "878550   December 2009        84093                  0  2010-07-01   69298378   \n",
      "878551       June 2010        84093                  0  2010-06-29   69142709   \n",
      "878552      April 2009        84093                  0  2010-03-06   57860039   \n",
      "\n",
      "        via_mobile  \n",
      "0            False  \n",
      "1            False  \n",
      "2            False  \n",
      "3            False  \n",
      "4            False  \n",
      "...            ...  \n",
      "878548       False  \n",
      "878549       False  \n",
      "878550       False  \n",
      "878551       False  \n",
      "878552       False  \n",
      "\n",
      "[436356 rows x 10 columns]\n"
     ]
    },
    {
     "data": {
      "text/html": [
       "<div>\n",
       "<style scoped>\n",
       "    .dataframe tbody tr th:only-of-type {\n",
       "        vertical-align: middle;\n",
       "    }\n",
       "\n",
       "    .dataframe tbody tr th {\n",
       "        vertical-align: top;\n",
       "    }\n",
       "\n",
       "    .dataframe thead th {\n",
       "        text-align: right;\n",
       "    }\n",
       "</style>\n",
       "<table border=\"1\" class=\"dataframe\">\n",
       "  <thead>\n",
       "    <tr style=\"text-align: right;\">\n",
       "      <th></th>\n",
       "      <th>ratings</th>\n",
       "      <th>title</th>\n",
       "      <th>text</th>\n",
       "      <th>author</th>\n",
       "      <th>date_stayed</th>\n",
       "      <th>offering_id</th>\n",
       "      <th>num_helpful_votes</th>\n",
       "      <th>date</th>\n",
       "      <th>id</th>\n",
       "      <th>via_mobile</th>\n",
       "    </tr>\n",
       "  </thead>\n",
       "  <tbody>\n",
       "    <tr>\n",
       "      <th>866770</th>\n",
       "      <td>{'service': 5.0, 'cleanliness': 5.0, 'overall': 5.0, 'value': 5.0, 'location': 5.0, 'sleep_quality': 5.0, 'rooms': 5.0}</td>\n",
       "      <td>“Terrific in DC”</td>\n",
       "      <td>My son and I stayed for 6 nights, just to do tourist stuff. The staff was excellent. Helpful, efficient, and always welcoming you back with a cheerful \"Welcome Home!\" 3 blocks from the DuPont Circle Metro and 2 blocks from some good restaurants (reasonably priced) .. and the sharing bike station at the Safeway which is a great way to see DC. The hotel is ArtDeco, lovely, clean, comfortable, with nice bathrooms and a kitchenette. We were delighted. The breakfast buffet (about $12) was disappointing and bland, so we cooked breakfast in our room.</td>\n",
       "      <td>{'username': 'jlmcadams', 'num_cities': 2, 'num_helpful_votes': 2, 'num_reviews': 2, 'location': 'Saint Louis, Missouri', 'id': 'ADFCFE6EEAF852BA1FB18CD6E6F9A6A1'}</td>\n",
       "      <td>June 2012</td>\n",
       "      <td>84109</td>\n",
       "      <td>2</td>\n",
       "      <td>2012-06-11</td>\n",
       "      <td>131763197</td>\n",
       "      <td>False</td>\n",
       "    </tr>\n",
       "  </tbody>\n",
       "</table>\n",
       "</div>"
      ],
      "text/plain": [
       "                                                                                                                        ratings  \\\n",
       "866770  {'service': 5.0, 'cleanliness': 5.0, 'overall': 5.0, 'value': 5.0, 'location': 5.0, 'sleep_quality': 5.0, 'rooms': 5.0}   \n",
       "\n",
       "                   title  \\\n",
       "866770  “Terrific in DC”   \n",
       "\n",
       "                                                                                                                                                                                                                                                                                                                                                                                                                                                                                                                                                                         text  \\\n",
       "866770  My son and I stayed for 6 nights, just to do tourist stuff. The staff was excellent. Helpful, efficient, and always welcoming you back with a cheerful \"Welcome Home!\" 3 blocks from the DuPont Circle Metro and 2 blocks from some good restaurants (reasonably priced) .. and the sharing bike station at the Safeway which is a great way to see DC. The hotel is ArtDeco, lovely, clean, comfortable, with nice bathrooms and a kitchenette. We were delighted. The breakfast buffet (about $12) was disappointing and bland, so we cooked breakfast in our room.   \n",
       "\n",
       "                                                                                                                                                                     author  \\\n",
       "866770  {'username': 'jlmcadams', 'num_cities': 2, 'num_helpful_votes': 2, 'num_reviews': 2, 'location': 'Saint Louis, Missouri', 'id': 'ADFCFE6EEAF852BA1FB18CD6E6F9A6A1'}   \n",
       "\n",
       "       date_stayed  offering_id  num_helpful_votes        date         id  \\\n",
       "866770   June 2012        84109                  2  2012-06-11  131763197   \n",
       "\n",
       "        via_mobile  \n",
       "866770       False  "
      ]
     },
     "execution_count": 29,
     "metadata": {},
     "output_type": "execute_result"
    }
   ],
   "source": [
    "required_aspects = {\"service\", \"cleanliness\", \"overall\", \"value\", \"location\", \"sleep_quality\", \"rooms\"}\n",
    "\n",
    "filtered_df = df[df['ratings'].apply(lambda x: set(eval(x).keys()) == required_aspects)]\n",
    "\n",
    "df = filtered_df\n",
    "\n",
    "df.sample(1)"
   ]
  },
  {
   "cell_type": "markdown",
   "metadata": {},
   "source": [
    "You must concatenate reviews from the same place based on attribute “offering_id”. The rating of a \n",
    "place is just the average of all the reviews ratings on each aspect."
   ]
  },
  {
   "cell_type": "code",
   "execution_count": null,
   "metadata": {},
   "outputs": [
    {
     "data": {
      "text/plain": [
       "Index(['ratings', 'title', 'text', 'author', 'date_stayed', 'offering_id',\n",
       "       'num_helpful_votes', 'date', 'id', 'via_mobile'],\n",
       "      dtype='object')"
      ]
     },
     "execution_count": 30,
     "metadata": {},
     "output_type": "execute_result"
    }
   ],
   "source": []
  }
 ],
 "metadata": {
  "kernelspec": {
   "display_name": "base",
   "language": "python",
   "name": "python3"
  },
  "language_info": {
   "codemirror_mode": {
    "name": "ipython",
    "version": 3
   },
   "file_extension": ".py",
   "mimetype": "text/x-python",
   "name": "python",
   "nbconvert_exporter": "python",
   "pygments_lexer": "ipython3",
   "version": "3.11.9"
  }
 },
 "nbformat": 4,
 "nbformat_minor": 2
}
