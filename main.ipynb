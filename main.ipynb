{
 "cells": [
  {
   "cell_type": "markdown",
   "metadata": {
    "collapsed": false,
    "pycharm": {
     "name": "#%% md\n"
    }
   },
   "source": [
    "## **Project One: TripAdvisor Recommendation Challenge - Beating BM25**\n",
    "_**Authors:** Alberto MARTINELLI, Alessia SARRITZU_\n",
    "\n",
    "The goal of the project is to develop a recommendation system that relies solely on user reviews to suggest similar places based on given queries. The system will propose the most relevant location based on the text of the reviews.\n",
    "\n",
    "1. **Data pre-processing**:\n",
    "  - Utilise only the reviews where ratings are composed strictly with this aspects: **service**, **cleanliness**, **overall**, **value**, **location**, **sleep quality**, and **rooms**.\n",
    "  - Concatenate reviews by `offering_id` to compute average ratings for evaluation.\n",
    "\n",
    "2. **BM25 Implementation**:\n",
    "    - Implement a BM25 baseline using the **Rank-BM25** library.\n",
    "    - Measure the performance of BM25 through Mean Square Error (MSE) between each ratings of the query place and the recommended place.\n",
    "\n",
    "3. **Enhanced Unsupervised Model**:\n",
    "    - Create a new unsupervised model to outperform BM25, potentially integrating it with other methods, while ensuring the model does not directly utilize ratings in its learning process.\n",
    "    - Measure performance of the **Enhanced Model** through Mean Square Error (MSE) between the ratings of the query place and the recommended place, with the aim of achieving a lower MSE than the BM25 baseline."
   ]
  },
  {
   "cell_type": "markdown",
   "metadata": {},
   "source": [
    "### 1)"
   ]
  },
  {
   "cell_type": "code",
   "execution_count": 42,
   "metadata": {
    "collapsed": false,
    "pycharm": {
     "name": "#%%\n"
    }
   },
   "outputs": [
    {
     "data": {
      "text/html": [
       "<div>\n",
       "<style scoped>\n",
       "    .dataframe tbody tr th:only-of-type {\n",
       "        vertical-align: middle;\n",
       "    }\n",
       "\n",
       "    .dataframe tbody tr th {\n",
       "        vertical-align: top;\n",
       "    }\n",
       "\n",
       "    .dataframe thead th {\n",
       "        text-align: right;\n",
       "    }\n",
       "</style>\n",
       "<table border=\"1\" class=\"dataframe\">\n",
       "  <thead>\n",
       "    <tr style=\"text-align: right;\">\n",
       "      <th></th>\n",
       "      <th>ratings</th>\n",
       "      <th>title</th>\n",
       "      <th>text</th>\n",
       "      <th>author</th>\n",
       "      <th>date_stayed</th>\n",
       "      <th>offering_id</th>\n",
       "      <th>num_helpful_votes</th>\n",
       "      <th>date</th>\n",
       "      <th>id</th>\n",
       "      <th>via_mobile</th>\n",
       "    </tr>\n",
       "  </thead>\n",
       "  <tbody>\n",
       "    <tr>\n",
       "      <th>752601</th>\n",
       "      <td>{'service': 2.0, 'cleanliness': 4.0, 'overall': 2.0, 'value': 1.0, 'rooms': 4.0, 'sleep_quality': 4.0}</td>\n",
       "      <td>“A night in Boston”</td>\n",
       "      <td>I was returning from a trip to Iceland and had to stay overnight since there are no late night flights to Kansas City. The shuttle driver could not find me at the airport. He had my cell phone num...</td>\n",
       "      <td>{'username': 'Stephen Y', 'num_reviews': 1, 'id': 'DAA0DE180891BCFA2A691B996F00585A', 'location': 'BLUE SPRINGS', 'num_helpful_votes': 1}</td>\n",
       "      <td>September 2012</td>\n",
       "      <td>217148</td>\n",
       "      <td>1</td>\n",
       "      <td>2012-09-29</td>\n",
       "      <td>141587560</td>\n",
       "      <td>False</td>\n",
       "    </tr>\n",
       "  </tbody>\n",
       "</table>\n",
       "</div>"
      ],
      "text/plain": [
       "                                                                                                       ratings  \\\n",
       "752601  {'service': 2.0, 'cleanliness': 4.0, 'overall': 2.0, 'value': 1.0, 'rooms': 4.0, 'sleep_quality': 4.0}   \n",
       "\n",
       "                      title  \\\n",
       "752601  “A night in Boston”   \n",
       "\n",
       "                                                                                                                                                                                                           text  \\\n",
       "752601  I was returning from a trip to Iceland and had to stay overnight since there are no late night flights to Kansas City. The shuttle driver could not find me at the airport. He had my cell phone num...   \n",
       "\n",
       "                                                                                                                                           author  \\\n",
       "752601  {'username': 'Stephen Y', 'num_reviews': 1, 'id': 'DAA0DE180891BCFA2A691B996F00585A', 'location': 'BLUE SPRINGS', 'num_helpful_votes': 1}   \n",
       "\n",
       "           date_stayed  offering_id  num_helpful_votes        date         id  \\\n",
       "752601  September 2012       217148                  1  2012-09-29  141587560   \n",
       "\n",
       "        via_mobile  \n",
       "752601       False  "
      ]
     },
     "execution_count": 42,
     "metadata": {},
     "output_type": "execute_result"
    }
   ],
   "source": [
    "import pandas as pd\n",
    "\n",
    "pd.set_option('display.max_colwidth', 200)\n",
    "df = pd.read_csv('reviews.csv')\n",
    "df.sample(1)"
   ]
  },
  {
   "cell_type": "markdown",
   "metadata": {
    "collapsed": false,
    "pycharm": {
     "name": "#%%\n"
    }
   },
   "source": [
    "On the table Reviews.csv, keep only the reviews where ratings are composed strictly with this \n",
    "aspects:  \n",
    "“service”, “cleanliness”, “overall”, “value”, “location”, “sleep quality”, “rooms” \n",
    "(not more and not less in order to compare places accurately)"
   ]
  },
  {
   "cell_type": "code",
   "execution_count": 43,
   "metadata": {},
   "outputs": [
    {
     "data": {
      "text/html": [
       "<div>\n",
       "<style scoped>\n",
       "    .dataframe tbody tr th:only-of-type {\n",
       "        vertical-align: middle;\n",
       "    }\n",
       "\n",
       "    .dataframe tbody tr th {\n",
       "        vertical-align: top;\n",
       "    }\n",
       "\n",
       "    .dataframe thead th {\n",
       "        text-align: right;\n",
       "    }\n",
       "</style>\n",
       "<table border=\"1\" class=\"dataframe\">\n",
       "  <thead>\n",
       "    <tr style=\"text-align: right;\">\n",
       "      <th></th>\n",
       "      <th>ratings</th>\n",
       "      <th>title</th>\n",
       "      <th>text</th>\n",
       "      <th>author</th>\n",
       "      <th>date_stayed</th>\n",
       "      <th>offering_id</th>\n",
       "      <th>num_helpful_votes</th>\n",
       "      <th>date</th>\n",
       "      <th>id</th>\n",
       "      <th>via_mobile</th>\n",
       "    </tr>\n",
       "  </thead>\n",
       "  <tbody>\n",
       "    <tr>\n",
       "      <th>638844</th>\n",
       "      <td>{'service': 4.0, 'cleanliness': 3.0, 'overall': 4.0, 'value': 4.0, 'location': 4.0, 'sleep_quality': 4.0, 'rooms': 4.0}</td>\n",
       "      <td>“nice stay for business”</td>\n",
       "      <td>I upgraded to the concierge floor and that was a great thing. It was like staying in a small hotel. The room was spacious but the stain on the comforter was gross. The staff were excellent. My onl...</td>\n",
       "      <td>{'username': 'LItravelers_8', 'num_reviews': 1, 'id': 'D4B6D083267A5C7258FC066AFF6190C2', 'location': 'Great Neck, New York'}</td>\n",
       "      <td>March 2011</td>\n",
       "      <td>676408</td>\n",
       "      <td>0</td>\n",
       "      <td>2011-03-26</td>\n",
       "      <td>101620938</td>\n",
       "      <td>False</td>\n",
       "    </tr>\n",
       "  </tbody>\n",
       "</table>\n",
       "</div>"
      ],
      "text/plain": [
       "                                                                                                                        ratings  \\\n",
       "638844  {'service': 4.0, 'cleanliness': 3.0, 'overall': 4.0, 'value': 4.0, 'location': 4.0, 'sleep_quality': 4.0, 'rooms': 4.0}   \n",
       "\n",
       "                           title  \\\n",
       "638844  “nice stay for business”   \n",
       "\n",
       "                                                                                                                                                                                                           text  \\\n",
       "638844  I upgraded to the concierge floor and that was a great thing. It was like staying in a small hotel. The room was spacious but the stain on the comforter was gross. The staff were excellent. My onl...   \n",
       "\n",
       "                                                                                                                               author  \\\n",
       "638844  {'username': 'LItravelers_8', 'num_reviews': 1, 'id': 'D4B6D083267A5C7258FC066AFF6190C2', 'location': 'Great Neck, New York'}   \n",
       "\n",
       "       date_stayed  offering_id  num_helpful_votes        date         id  \\\n",
       "638844  March 2011       676408                  0  2011-03-26  101620938   \n",
       "\n",
       "        via_mobile  \n",
       "638844       False  "
      ]
     },
     "execution_count": 43,
     "metadata": {},
     "output_type": "execute_result"
    }
   ],
   "source": [
    "required_aspects = {\"service\", \"cleanliness\", \"overall\", \"value\", \"location\", \"sleep_quality\", \"rooms\"}\n",
    "\n",
    "filtered_df = df[df['ratings'].apply(lambda x: set(eval(x).keys()) == required_aspects)]\n",
    "\n",
    "filtered_df.sample(1)"
   ]
  },
  {
   "cell_type": "markdown",
   "metadata": {},
   "source": [
    "You must concatenate reviews from the same place based on attribute “offering_id”. The rating of a \n",
    "place is just the average of all the reviews ratings on each aspect."
   ]
  },
  {
   "cell_type": "code",
   "execution_count": 44,
   "metadata": {},
   "outputs": [
    {
     "name": "stderr",
     "output_type": "stream",
     "text": [
      "/var/folders/3n/z5lgbp_j3c9452g4rvftntrm0000gn/T/ipykernel_42020/2930256687.py:2: SettingWithCopyWarning: \n",
      "A value is trying to be set on a copy of a slice from a DataFrame.\n",
      "Try using .loc[row_indexer,col_indexer] = value instead\n",
      "\n",
      "See the caveats in the documentation: https://pandas.pydata.org/pandas-docs/stable/user_guide/indexing.html#returning-a-view-versus-a-copy\n",
      "  filtered_df['ratings'] = filtered_df['ratings'].apply(eval) #Modify filtered_df to convert ratings field from string to dictionary (json format)\n"
     ]
    },
    {
     "data": {
      "text/html": [
       "<div>\n",
       "<style scoped>\n",
       "    .dataframe tbody tr th:only-of-type {\n",
       "        vertical-align: middle;\n",
       "    }\n",
       "\n",
       "    .dataframe tbody tr th {\n",
       "        vertical-align: top;\n",
       "    }\n",
       "\n",
       "    .dataframe thead th {\n",
       "        text-align: right;\n",
       "    }\n",
       "</style>\n",
       "<table border=\"1\" class=\"dataframe\">\n",
       "  <thead>\n",
       "    <tr style=\"text-align: right;\">\n",
       "      <th></th>\n",
       "      <th>service</th>\n",
       "      <th>cleanliness</th>\n",
       "      <th>overall</th>\n",
       "      <th>value</th>\n",
       "      <th>location</th>\n",
       "      <th>sleep_quality</th>\n",
       "      <th>rooms</th>\n",
       "      <th>text</th>\n",
       "      <th>offering_id</th>\n",
       "    </tr>\n",
       "  </thead>\n",
       "  <tbody>\n",
       "    <tr>\n",
       "      <th>288173</th>\n",
       "      <td>5.0</td>\n",
       "      <td>5.0</td>\n",
       "      <td>4.0</td>\n",
       "      <td>5.0</td>\n",
       "      <td>5.0</td>\n",
       "      <td>5.0</td>\n",
       "      <td>4.0</td>\n",
       "      <td>In my opinion, many of the reviews for this hotel came from spoiled brats! If you want 5 star, stay elsewhere. If you want clean rooms, comfy beds, free parking, EXCELLENT location where you can w...</td>\n",
       "      <td>81466</td>\n",
       "    </tr>\n",
       "  </tbody>\n",
       "</table>\n",
       "</div>"
      ],
      "text/plain": [
       "        service  cleanliness  overall  value  location  sleep_quality  rooms  \\\n",
       "288173      5.0          5.0      4.0    5.0       5.0            5.0    4.0   \n",
       "\n",
       "                                                                                                                                                                                                           text  \\\n",
       "288173  In my opinion, many of the reviews for this hotel came from spoiled brats! If you want 5 star, stay elsewhere. If you want clean rooms, comfy beds, free parking, EXCELLENT location where you can w...   \n",
       "\n",
       "        offering_id  \n",
       "288173        81466  "
      ]
     },
     "execution_count": 44,
     "metadata": {},
     "output_type": "execute_result"
    }
   ],
   "source": [
    "# Convert ratings field to dictionary and expand it to columns\n",
    "filtered_df['ratings'] = filtered_df['ratings'].apply(eval) #Modify filtered_df to convert ratings field from string to dictionary (json format)\n",
    "filtered_df = filtered_df.reset_index(drop=True) #Reset index of filtered_df to avoid misalignment issues\n",
    "ratings_expanded_df = pd.json_normalize(filtered_df['ratings']) #expand dictionary to columns\n",
    "selected_columns_df = filtered_df[['text', 'offering_id']] \n",
    "combined_df = pd.concat([ratings_expanded_df, selected_columns_df], axis=1) # join with offering_id, title and text\n",
    "\n",
    "combined_df.sample(1)"
   ]
  },
  {
   "cell_type": "code",
   "execution_count": 45,
   "metadata": {},
   "outputs": [
    {
     "data": {
      "text/html": [
       "<div>\n",
       "<style scoped>\n",
       "    .dataframe tbody tr th:only-of-type {\n",
       "        vertical-align: middle;\n",
       "    }\n",
       "\n",
       "    .dataframe tbody tr th {\n",
       "        vertical-align: top;\n",
       "    }\n",
       "\n",
       "    .dataframe thead th {\n",
       "        text-align: right;\n",
       "    }\n",
       "</style>\n",
       "<table border=\"1\" class=\"dataframe\">\n",
       "  <thead>\n",
       "    <tr style=\"text-align: right;\">\n",
       "      <th></th>\n",
       "      <th>offering_id</th>\n",
       "      <th>service</th>\n",
       "      <th>cleanliness</th>\n",
       "      <th>overall</th>\n",
       "      <th>value</th>\n",
       "      <th>location</th>\n",
       "      <th>sleep_quality</th>\n",
       "      <th>rooms</th>\n",
       "      <th>text</th>\n",
       "    </tr>\n",
       "  </thead>\n",
       "  <tbody>\n",
       "    <tr>\n",
       "      <th>2299</th>\n",
       "      <td>223917</td>\n",
       "      <td>4.0</td>\n",
       "      <td>4.12</td>\n",
       "      <td>3.76</td>\n",
       "      <td>4.16</td>\n",
       "      <td>4.24</td>\n",
       "      <td>3.92</td>\n",
       "      <td>3.76</td>\n",
       "      <td>I stayed here during the week of the Democratic Convention, when even the sleaziest motels were charging an arm and a leg. I stumbled upon a website deal for this hotel that was way too good to be...</td>\n",
       "    </tr>\n",
       "  </tbody>\n",
       "</table>\n",
       "</div>"
      ],
      "text/plain": [
       "      offering_id  service  cleanliness  overall  value  location  \\\n",
       "2299       223917      4.0         4.12     3.76   4.16      4.24   \n",
       "\n",
       "      sleep_quality  rooms  \\\n",
       "2299           3.92   3.76   \n",
       "\n",
       "                                                                                                                                                                                                         text  \n",
       "2299  I stayed here during the week of the Democratic Convention, when even the sleaziest motels were charging an arm and a leg. I stumbled upon a website deal for this hotel that was way too good to be...  "
      ]
     },
     "execution_count": 45,
     "metadata": {},
     "output_type": "execute_result"
    }
   ],
   "source": [
    "df = combined_df\n",
    "# Calculate the mean of each rating aspect and concatenate texts of reviews\n",
    "df = df.groupby('offering_id').agg(\n",
    "    service=('service', 'mean'),  # Average rating for 'service' aspect (you can add others as needed)\n",
    "    cleanliness=('cleanliness', 'mean'),\n",
    "    overall=('overall', 'mean'),\n",
    "    value=('value', 'mean'),\n",
    "    location=('location', 'mean'),\n",
    "    sleep_quality=('sleep_quality', 'mean'),\n",
    "    rooms=('rooms', 'mean'),\n",
    "    text=('text', lambda x: ' '.join(x)), # Concatenate all text entries\n",
    ").reset_index()\n",
    "\n",
    "df.sample(1)"
   ]
  },
  {
   "cell_type": "markdown",
   "metadata": {},
   "source": [
    "### 2)"
   ]
  },
  {
   "cell_type": "code",
   "execution_count": 46,
   "metadata": {},
   "outputs": [
    {
     "name": "stdout",
     "output_type": "stream",
     "text": [
      "Query Place Details:\n",
      "Offering ID: 108979\n",
      "Ratings:\n",
      "  service: 4.25\n",
      "  cleanliness: 4.55\n",
      "  overall: 4.15\n",
      "  value: 4.15\n",
      "  location: 3.65\n",
      "  sleep_quality: 4.4\n",
      "  rooms: 4.1\n",
      "\n",
      "Reviews texts concatenated:\n",
      "We had a large room, reliable WiFi, good shower, and great breakfasts. In-room HVAC was noisy. Free shuttle service to/from airport provided by a third party. Must have a vehicle to get to anything. I don't have anything else to say but must keep writing to get to the 200 character minimum. We stayed here twice during a month's touring of America. Our room was large, and the bed was by far the most comfortable out of all the hotels we stayed in. It was wonderful having a fridge in the room so we could occasionally do our waistlines a favour and have something light from Wholefoods. Housekeeping did a great job keeping everything clean.\n",
      "The breakfasts were really good with lots of choice, the pastries being my particular favourite.We were even provided with a breakfast bag when we had to leave the hotel at 4.30am.\n",
      "The pool was a definite bonus, and coming from the sunless UK we did spent a few hours lying around it reading our books.\n",
      "The desk staff were always friendly and helpful. \n",
      "This hotel does get busy on a weekend and so you should expect a little noise here and there, but overall we thoroughly enjoyed our stay at the Hampton Inn and I have no hesitation in recommending it. Cannot really complain too much about a Hampton Inn, except this one did not have the nice, newer, more plush mattresses that some have. Also, the breakfast room was tiny and very cramped. It was a decent location, though, conveniently off of I-35. We had a block of rooms for our Sons Wedding and the Staff was very nice. Rooms were very clean and the most comfortable bed I have ever slept in for a Hotel! The Bathrooms were not your typical counters. Big wood table with sink. Very pretty! Small microwave and mini fridge in the room also. I would recommend to anyone who would like a nice stay in Austin. Easy access to Freeways. 10/2012 Compared to other Hampton Inn's, this one needs some work. My room wasn't ready, hallway was flooded due to shower in one of the rooms and one elevator was out of order. \n",
      "It's close to the airport and Spansion. This hotel has the standard amenities and decorations, layout, etc. consistent with the brand. In reviewing the increasingly standardized properties of international brands, many aspects of the usual reports are predictable or otherwise commonly known.\n",
      "Some points particular to this property include staff, location, and those points stemming from such factors.\n",
      "Staff: The staff members were each and all very friendly and efficient. The cleanliness of the room and upkeep of the interior are further evidence of capable and attentive staff. My bill, including tax free application, was correct and in order.\n",
      "Location: Though the city is relatively small, and distance to downtown is not many miles, drive times are lengthened by traffic. Austin’s good economy has attracted job seekers, some of whom are from out of state—which means non-Texas drivers. Apparently, some states do not encourage slow drivers to move from the left lane and officers fail to ticket lane changes devoid of signal. Overall, traffic is the main detraction to this location. Grocery stores and restaurants are very close, but it seemed like nothing within walking distance was particular to Austin (chain restaurants and the general pub), and the ease of finding the hotel being due to proximity to the airport and highway meant walking anywhere in the area would not be easy.\n",
      "If you are looking for a good deal and comfortable lodging for business, I would recommend this property. Low rates, clean facility, and competent staff make this a good choice when spending your company’s money. If you’re in the area for a family trip or for fun, I might seek something more closely situated to downtown and signature Austin restaurants and activities. Parking downtown is not difficult, but if you have to walk several blocks from parking to your destination, there are properties where you could do this without first driving downtown and paying for parking. Also, if you planned to bar hop, why not be able to walk or take a much cheaper cab ride? If you did stay at this hotel with family though, you would be pleased to find clean, working refrigerator and microwave appliances in the room. And the refrigerator is actually empty, allowing you to put things you bring into it. I was here on a busy weekend but the room (6th floor) was quiet all the time. Everything was clean and worked; just what I’ve learned to expect from this chain. Check-in went smoothly and the staff was friendly and courteous. The breakfast area was kept clean and well-stocked on a busy Saturday morning and the room was cleaned quickly and quietly during the day. Many other comparable hotels in the area to spend money with you...customer service stinks!!\n",
      "First, we were put in a king room reserved for handicapped citizens. Whoever designed the hotel didn't consider the shower floor for any guest. Very European in design, however, the tiles were so large that anyone who showers on these tiles slip and slide and causes issue for agile guests; not to mention handicapped citizens.\n",
      "Secondly, we requested a late check-out to be at 1:00 p.m. Communication between night manager and day manager didn't occur. I was bugged by the Maid, front desk clerk, and the walls were banged on \"appearing to want me out\" much earlier than the 1:00p.m. check-out.\n",
      "I was lied to when I was told that my husband had turned in his key (which he never did)..that is why they were confused. WOW! Customer Service NOT! \n",
      "You all must be proud of your hotel! Your customer service is lousy and we won't be back!!!! I have stayed at this Hampton Inn several times in the last few months while dealing with a family matter. The rooms are comfortably furnished and well maintained. The lobby and breakfast area are pleasant, with a \"homey\" feel. The property has a very nice fitness room and a lovely outdoor pool. A guest laundry is available at the Homewood Suites across the parking lot, a real convenience when on an extended stay. The staff has been friendly and unfailingly helpful on my repeated visits, making me feel like a welcome and valued guest. As a woman traveling alone, this level of personal recognition and attention was much appreciated. I booked a handicapped assessable room weeks advance but arrived to find a booked hotel and my wife and I stuck with a room not intended for someone in a wheelchair. One hand assist in the bathroom and that was in the shower. Needless to say this was the worst hotel stay of out lives. When I complained I was told I should have called the hotel and not used the online service because it wasn't working as intended but that they were in the process of repairing it. So basically It was my fault. Thanks Hampton from making our anniversary one we will remember for a very long time. On the plus side the Hampton isn't the only hotel in Austin. A Nice classic HI, standard design, standard amenities, good service from staff, quiet, convenient ont he South side to get into town and airport. My daughter and I were in Austin overnight for her first college visitation trip. We selected this Hampton Inn because of its proximity to the University we were visiting. We arrived around 8PM and the staff greeted me BY NAME, even though I hadn't stayed there recently and hadn't let them know when we would arrive, other than to say it would be after dinner. I was impressed! Then the desk clerk advised us of the time of the University program the following morning and offered to provide directions. The room was just what I had asked for, and the extra towels were already in the bath room! We had a wonderful hot breakfast in the morning and went to the program. As we were going out the front desk clerk asked again if we needed directions or suggestions for lunch or anything else. They made us feel like they really cared that we had a great time and tried to make the travel easier for us! Great job! No problems here. We used the pool, workout facilities, and a pack n play was set up with sheets before we arrived. The location of this hotel is kind of tricky. If you miss your turn, you may go in circles a few times before you reach it. You can see it, but you can't get there. When we did, it was a nice, clean hotel. The only other negative was the poorly staffed front desk. On a busy football weekend, you need more than one person up front. There was a wait every time on that desk. U Even though this hotel is near the freeway, being on a side street rather than right on the freeway helps to make it quieter. Our room on the 4th floor was very quiet to outside noise. Pool looked nice though we didn't try it. Cookies offered at front desk in afternoon was nice--and gave the lobby a friendly, homey smell. Breakfast (included in room price) was great--way beyond the sweet rolls & cereal you get at some places. The mini omelets and sausage were good, and having a big bowl of fresh fruit was a real plus. We stayed at his property on our way to a weeks trip out of state. There were three couples in our group. We had an early flight and they provided us with a shuttle to the airport and let us park our car for a week on their property. That' not all ....they got us from the airport on our return. We all had wonderful things to say about this hospitality extended us by this hotel and their staff. The young woman at the front desk was an excellent example of an employee I would want representing my property. We stayed here earlier this month for five nights. Friendly, responsive front desk service, clean, comfortable room and overall good breakfast. The hotel is located in an office park setting just south of the Ben White Blvd (Rt 71). It's about a 12-minute drive from either the airport or to the state capitol. The hotel is a little tricky to reach from I-35 southbound; make sure you're on the I-35 frontage road. I suggest taking the Woodward St exit and following it across Rt 71. Minor complaints: no self-service laundry (you must use the one located at the next-door hotel); like every Hampton I've stayed an unusually-shaped bathroom sink that juts out, making it awkward to brush teeth or wash your face. But the bathroom itself was a good size. I wish Hampton would offer real maple syrup for the breakfast service. Still an excellent value that's close enough to downtown Austin and the airport. The best linens ever! Had a great time staying here while searching for a home. Everyone was nice-used hte laundry at the hotel next door (another Hilton property)Convienient location. The hotel is a little awkward to get to, but worth finding. It had everything you would expect from a hotel in this price range -- clean, comfortable rooms; nice breakfast including eggs, sausage, cereal, toast, pastries, and fresh fruit; courteous, professional, and helpful staff. There is a lot of outside noise from the nearby highway, but once inside the rooms are serenely quiet. Landscaping was quite nice, too. Easy to get on the highway from the hotel. While the hotel did not have dining or lounge facilities, there's a lovely lounge in the Omni just across a quiet street. We would definitely stay here again. This Hampton Inn is a superior property and well maintained......very clean and nicely updated with a very upscale bathroom decor. Very quiet, comfortable and clean. Much better breakfast than most Hamptons, with bacon and an omlette, plus the other usual stuff. \n",
      "Late night front desk guy was very helpful after midnight when I called having just arrived at the airport and having to make a last minute hotel arrangement. So pleased with our recent stay - comfortable spacious room, terrific bed, linens & pillows, free wifi, abundant breakfast, super friendly and helpful staff The only negative was the location if visiting Austin.\n",
      "We stayed during SXSW and would advise buying a shuttle pass, which was great value...an absolute must.\n",
      "Prior to arriving, we requested a high room and fridge in our room and both requests were fulfilled for no extra charge. After driving from Abilene, TX, we were a little tired as we entered Austin, and were relying on our GPS to guide us to our motel. Unfortunately, Ben White Blvd (as verbalized by GPS) was not on any freeway offramp signs, and we circled in frustration as we sought out the motel. The facility met all standards for comfort and service...once we got there. We weren't the only people frustrated in trying to find the motel. convenient to town. nice and quiet.\n",
      "rooms are nice. (not musty). bed on firmer side.\n",
      "shower pressure ok. temperature control could use some improvement. also noisy AC.\n",
      "typical Hampton breakfast. \n",
      "convenient. to town. zigler park. hornsby birding refuge. lady bird wildflower center. \n",
      "ate mostly at whole foods. I Loved staying at this Hampton Inn. The staff was lovely, complimentary breakfast was plentiful and hot, room was very clean and comfortable. This Hampton inn is only a few miles away from the the airport and the downtown center (it was literally in between the airport and downtown). This place was another nice memory to an already memorable trip. Who doesn’t enjoy clean sheets, clean bathrooms and clean hotel rooms? Well, I obviously do. The room with a fridge, microwave, 32” inch flat screen TV, work desk, are also important. The bed was king size, and the sheets were clean. The A/C was a little loud and it’s one of those bulky units which sit below a window. The control unit is on the opposite wall. I prefer vents in the walls and quiet A/Cs. Bathroom is basic. I noticed the bathroom had extra towels. I also noticed a dusty bathroom vent cover. A little dusting would do it good. The room was spacious and on the 6th floor, and it had additional space after suitcases and work items. That’s a plus. No restaurants are within walking distance and if you don’t like being stuck in Austin traffic, then I would choose a hotel closer to all the downtown activity. Free Wi-Fi and breakfast (coffee, tea, eggs, sausages, cornflakes, yogurt, waffles, muffins and bagels/cream cheese). I would have liked a TV with HD channels, but I guess you can’t get everything. Overall, good hotel and I would recommend it. See my pics of the room and bath. My Wife stayed here late last year during her annual visit to see our family, and she had said this was a lovely clean hotel conveniently located for South Austin (and the hip and happening South Congress area which is just a short drive away).\n",
      "And she was right! It looked like my room was newly renovated (or brand new). There was a smart, clean bathroom, and a super-comfy bed. The main reception area was new, clean and modern (and there's a pool outside which I did not try).\n",
      "Downsides? The in-room A/C unit was a bit noisy (aren't they always?). And there is no bar or evening drinks (a walk over to the Omni across the street solved this problem).\n",
      "Altogether a great example of our favorite moderately priced hotel chain.\n",
      "We'll be staying there again! After reading all the reviews on here, I have to wonder if I'm at the same hotel. The lobby is beautiful, but the room feels like it hasn't been renovated. I had to climb over/under furniture to get to a plug, the lamps are scratched up. My hair dryer broke and the front desk staff had to bring me a new one. The breakfast was excellent and checking in was a breeze. However, the room itself needs some updating. During a brief trip to Austin, we checked in here. Only a few minutes from the airport, convenient to most major areas. Hotel is in excellent condition, very clean, comfy beds and quality staff pointed us to two nice restaurants. Only small drawback is interstate construction project makes it easy to miss the exit. Well worth the money\" I was very pleased with the hotel. The room was clean, nice and had all I expected. The Front desk was VERY helpful and patient. The breakfast spread was also very good. My only problem was trhe location. I was there with my son looking at the University of Texas. We decided not to rent a car because we didn't want the hassle of trying to find parking in town especially on a game day (football). The cab rides cost about $15 plus tip, therefore, every time you go out it will cost $30 plus tip so we tried to stay in town until we were done for the day, never going back to the room after leaving in the morning. My suggestion to the hotel would be to join up with other hotels in the area and offer free hourly shuttles (or every 2 hours) to and from the downtown area (6th Street, Guadolupe, the University, the capital, etc.....). Next time if there is nothing like that in place I might spend the extra money I spent on cabs and apply it to a room in a downtown hotel. So again great hotel, great employees, decent food, just not close enough, \"cabbing it\" to expensive. With the free shuttle back and forth to town I would absolutely stay here again. Good luck in your search! I travel often for business and always get a great nights sleep when I stay at a Hampton Inn. Always consistent quality and this location was no exception. Not only was it very close to my company's office, but it was clean and the staff was friendly. My room smelled fresh and was immaculate. Felt safe and secure, which is important when traveling solo. Great hotel! Reservation made several weeks in advance for a no smoking room. At check in they told us they only had smoking rooms availabe. They had given our room away. Room was clean, service was great, and OMG the breakfast was awesome.\n",
      "would stay there again, the construction in the area makes it a little hard to get around, but once you make it there you'll enjoy the greeting you get from the front desk. Hotel was clean and the rooms had all the items one would expect of a great hotel. The people working there were friendly and helpful. The breakfast was good and the area orderly to allow flow thru as well as allowing for a comfortable breakfast. We had 8 people in 3 rooms reserved for 2 nights for a wedding in Austin. Everything was nice and clean. Everyone loved the hotel and the pool area was nice. The area is well lite and in a good area near downtown. Lindsey at the front desk was wonderful, very helpful, and went the extra mile for us when we had a minor problem that was quickly corrected. The manager Dawnell also went the extra mile for us. All of us had a great stay and the hotel was quiet and peaceful and the breakfast was also good, I look forward to staying with you guys again! This was an unexpected wonderful experience. Free parking, free WiFi, cookies at check-in, delicious & changing free breakfast (lots of variety), very comfortable beds, large, quiet rooms, small but nice pool, all staff were very polite, knowledgeable, and very competent. For 5$/night we had a refrigerator and microwave. We stayed in room #500. Very quiet and relatively close to the airport.\n",
      "If you are not use to the Texas highway system it can be mind-boggling finding this place but MapQuest makes it easier. Current highway construction further complicates the matter. We love the location, away from the 6th street crowd and yet just a short drive downtown and to Walmart and many restaurants nearby. Hotel and rooms are clean. Even though we were there during the Labour day weekend and the hotel was packed, it was still very quiet and breakfast was well stocked. Could see a lady working very hard to ensure breakfast items were duly replenished and place kept clean. All day coffee and hot chocolate in the lobby was a hit. Bonus: Complimentary breakfast and free internet. Free parking too. Good value for money. This hotel was very quiet, and clean. The staff is very friendly and they serve fresh cookies during the day. The compl. breakfast was good and I noticed to-go-breakfast bags on the front counter for early departs. Best of all was the pool setting, in which we entertained different visiting relatives throughout the stay, I even got to enjoy some brew with my brother and friend late into the evening catching up, and no one bothered us or said pool is closed etc. So that was impressing as most hotels treat you like a teenager around the pool area and times. If reviewing the I35@Ben White hotel areas, search no more stay their. I did alot of research before the trip and also when I was in that area looking at other hotels to write this review. The other hotels in that area looked run down or cheap except the Omni if you want to high roll but the others in same price range as his hotel can't compare. As I want to pass on good intel along. The only thing I could suggust or find wrong with the stay was the toiletry items (small bottles or brand) but thats really not a issue if you bring your own stuff. Housecleaning was great and always plenty of towels in the room. This hotel was GREAT!! We had booked at another hotel and was unable to stay there at the last minute. I was already down about not getting the place we wanted and felt like we had to \"settle\". HOWEVER - Hampton Inn was WAY above my expectation!! The hotel is VERY clean, quite and comfortable. We were always in late and NEVER disturbed by the staff in the morning and our late evenings out, the room was always clean when we got back! We were on a NON-smoking floor, yet were in room 420 and we were the ONLY room on that floor without the \"non-smoking\" logos - which if your young enough -means the hotel has a sense of humor and I LOVE THAT!!! I will always stay here at the Hampton Inn when we visit Austin, close to everything and never put out by the staff!\n",
      "THANKS HAMPTON INN!!! I am always amazed at the value that the Hamptons genrally offer. I stay in 4 star hotels a lot and this and many other Hamptons always impress me. As we all know the 4 stars always charge for parking, wifi, no free food or anything. It gets expensive quick. This Hampton was clean, the room was perfect (large, clean, big tv etc..) It makes long trips much easier for me.\n"
     ]
    }
   ],
   "source": [
    "# Select a random query place from the dataset\n",
    "query_place = df.sample(1).iloc[0]\n",
    "# And print its details\n",
    "query_id = query_place['offering_id']\n",
    "query_ratings = query_place[['service', 'cleanliness', 'overall', 'value', 'location', 'sleep_quality', 'rooms']]\n",
    "query_text = query_place['text']\n",
    "print(\"Query Place Details:\")\n",
    "print(f\"Offering ID: {query_id}\")\n",
    "print(\"Ratings:\")\n",
    "for aspect, rating in query_ratings.items():\n",
    "    print(f\"  {aspect}: {rating}\")\n",
    "print(\"\\nReviews texts concatenated:\")\n",
    "print(query_text)\n",
    "\n",
    "# Exclude the query place from the documents to avoid recommending it\n",
    "documents_df = df[df['offering_id'] != query_id].reset_index(drop=True)\n"
   ]
  },
  {
   "cell_type": "code",
   "execution_count": null,
   "metadata": {},
   "outputs": [
    {
     "name": "stdout",
     "output_type": "stream",
     "text": [
      "Query Offering ID: 108979\n",
      "Recommended Offering ID: 93339\n",
      "BM25 Score: 48.350943036568594\n",
      "MSE: 0.26942810333148126\n",
      "The best match for the given query is:\n",
      "offering_id                                                                                                                                                                                                        93339\n",
      "service                                                                                                                                                                                                         3.748175\n",
      "cleanliness                                                                                                                                                                                                     4.109489\n",
      "overall                                                                                                                                                                                                         3.616788\n",
      "value                                                                                                                                                                                                           3.474453\n",
      "location                                                                                                                                                                                                         4.09854\n",
      "sleep_quality                                                                                                                                                                                                   3.956204\n",
      "rooms                                                                                                                                                                                                           3.551095\n",
      "text             When I travel and stay in big cities I like to stay in locations that have character. Often these places are not in the center of the action, rather, they in niche areas where the locals live. If ...\n",
      "Name: 781, dtype: object\n"
     ]
    }
   ],
   "source": [
    "from rank_bm25 import BM25Okapi\n",
    "from sklearn.metrics import mean_squared_error\n",
    "\n",
    "# Load and preprocess the reviews (assuming df contains concatenated reviews by 'offering_id')\n",
    "documents = documents_df['text'].apply(lambda x: x.split())  # Tokenize each document by splitting words\n",
    "bm25 = BM25Okapi(documents)\n",
    "\n",
    "# Define a query (a review or set of reviews from a specific place)\n",
    "tokenized_query = query_text.split()  # Tokenized query\n",
    "\n",
    "# Get BM25 scores for the query across all documents\n",
    "scores = bm25.get_scores(tokenized_query)\n",
    "\n",
    "# Step 5: Retrieve the top matching place based on BM25 score\n",
    "top_n = 1  # Number of top matches to retrieve\n",
    "top_match_index = sorted(range(len(scores)), key=lambda i: scores[i], reverse=True)[:top_n][0] # Sorts the scores in descending order and retrieves the highest score\n",
    "top_match = documents_df.iloc[top_match_index]\n",
    "\n",
    "# Step 6: Calculate the MSE between the ratings of the query place and the recommended place\n",
    "recommended_ratings = top_match[['service', 'cleanliness', 'overall', 'value', 'location', 'sleep_quality', 'rooms']]\n",
    "mse = mean_squared_error(query_ratings, recommended_ratings)\n",
    "\n",
    "# Print the results\n",
    "print(f\"Query Offering ID: {query_id}\")\n",
    "print(f\"Recommended Offering ID: {top_match['offering_id']}\")\n",
    "print(f\"BM25 Score: {scores[top_match_index]}\")\n",
    "print(f\"MSE: {mse}\")"
   ]
  }
 ],
 "metadata": {
  "kernelspec": {
   "display_name": "base",
   "language": "python",
   "name": "python3"
  },
  "language_info": {
   "codemirror_mode": {
    "name": "ipython",
    "version": 3
   },
   "file_extension": ".py",
   "mimetype": "text/x-python",
   "name": "python",
   "nbconvert_exporter": "python",
   "pygments_lexer": "ipython3",
   "version": "3.11.9"
  }
 },
 "nbformat": 4,
 "nbformat_minor": 2
}
